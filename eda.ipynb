{
 "cells": [
  {
   "cell_type": "code",
   "execution_count": 29,
   "id": "f193f30f",
   "metadata": {},
   "outputs": [],
   "source": [
    "import pandas as pd\n",
    "import numpy as np\n",
    "import matplotlib.pyplot as plt\n",
    "import seaborn as sns\n",
    "\n",
    "# 1. Load Dataset\n",
    "df =  pd.read_csv('Out_Sales_Data_LRDP.csv'  , index_col=0)  # Replace with actual file path\n"
   ]
  },
  {
   "cell_type": "code",
   "execution_count": 30,
   "id": "40db8ff4",
   "metadata": {},
   "outputs": [
    {
     "name": "stderr",
     "output_type": "stream",
     "text": [
      "2025-07-09 14:08:13.310 Thread 'MainThread': missing ScriptRunContext! This warning can be ignored when running in bare mode.\n",
      "2025-07-09 14:08:13.315 Thread 'MainThread': missing ScriptRunContext! This warning can be ignored when running in bare mode.\n",
      "2025-07-09 14:08:13.316 Thread 'MainThread': missing ScriptRunContext! This warning can be ignored when running in bare mode.\n",
      "2025-07-09 14:08:13.317 Thread 'MainThread': missing ScriptRunContext! This warning can be ignored when running in bare mode.\n",
      "2025-07-09 14:08:13.318 Thread 'MainThread': missing ScriptRunContext! This warning can be ignored when running in bare mode.\n",
      "2025-07-09 14:08:13.319 Thread 'MainThread': missing ScriptRunContext! This warning can be ignored when running in bare mode.\n",
      "2025-07-09 14:08:13.320 Thread 'MainThread': missing ScriptRunContext! This warning can be ignored when running in bare mode.\n",
      "2025-07-09 14:08:13.322 Thread 'MainThread': missing ScriptRunContext! This warning can be ignored when running in bare mode.\n",
      "2025-07-09 14:08:13.322 Thread 'MainThread': missing ScriptRunContext! This warning can be ignored when running in bare mode.\n",
      "2025-07-09 14:08:13.322 Thread 'MainThread': missing ScriptRunContext! This warning can be ignored when running in bare mode.\n",
      "2025-07-09 14:08:13.323 Thread 'MainThread': missing ScriptRunContext! This warning can be ignored when running in bare mode.\n",
      "2025-07-09 14:08:13.323 Thread 'MainThread': missing ScriptRunContext! This warning can be ignored when running in bare mode.\n",
      "2025-07-09 14:08:13.324 Thread 'MainThread': missing ScriptRunContext! This warning can be ignored when running in bare mode.\n"
     ]
    }
   ],
   "source": [
    "import pandas as pd\n",
    "import matplotlib.pyplot as plt\n",
    "import seaborn as sns\n",
    "import streamlit as st\n",
    "\n",
    "# Streamlit UI\n",
    "st.set_page_config(layout=\"wide\")\n",
    "st.title(\"Ralph Lauren Size Curve Forecast EDA\")\n",
    "\n",
    "# Load Data\n",
    "uploaded_file = st.file_uploader(\"Upload Forecast CSV File\", type=\"csv\")\n",
    "if uploaded_file is not None:\n",
    "    df = pd.read_csv(uploaded_file)\n",
    "\n",
    "    # 1. Overview and Data Completeness\n",
    "    st.header(\"1. Data Summary\")\n",
    "    st.write(\"**Shape of Data:**\", df.shape)\n",
    "    st.write(\"**Unique Rows:**\", df.drop_duplicates().shape[0])\n",
    "    st.write(\"**Missing Values:**\")\n",
    "    st.dataframe(df.isnull().sum())\n",
    "    st.write(\"**Data Types:**\")\n",
    "    st.dataframe(df.dtypes)\n",
    "\n",
    "    # 2. Sample Data\n",
    "    st.header(\"2. Sample Data\")\n",
    "    st.dataframe(df.head())\n",
    "\n",
    "    # 3. Unique Value Counts\n",
    "    st.header(\"3. Unique Value Summary by Key Dimensions\")\n",
    "    check_cols = [\n",
    "        'Global Plan Brand.[Global Plan Brand]', 'Region.[Region]', 'Channel.[Channel]',\n",
    "        'Global Plan L1.[Global Plan L1]', 'Global Plan L2.[Global Plan L2]',\n",
    "        'Global Plan L3.[Global Plan L3]', 'Global Plan L4.[Global Plan L4]',\n",
    "        'Item.[PPL]', 'Evergreen.[Evergreen]'\n",
    "    ]\n",
    "    for col in check_cols:\n",
    "        if col in df.columns:\n",
    "            st.write(f\"**{col}**: {df[col].nunique()} unique values\")\n",
    "\n",
    "    # 4. Data Horizon Check\n",
    "    st.header(\"4. Data Horizon Check\")\n",
    "    month_col = 'Time.[Planning Month]'\n",
    "    if month_col in df.columns:\n",
    "        df[month_col] = pd.to_datetime(df[month_col], errors='coerce')\n",
    "        st.write(\"Min Month:\", df[month_col].min())\n",
    "        st.write(\"Max Month:\", df[month_col].max())\n",
    "        st.write(\"Total Months Available:\", df[month_col].nunique())\n",
    "\n",
    "    # 5. Duplicate Check\n",
    "    st.header(\"5. Duplicate Check\")\n",
    "    st.write(\"Duplicate Rows:\", df.duplicated().sum())\n",
    "\n",
    "    # 6. Monthly Distribution\n",
    "    st.header(\"6. Monthly Distribution of Records\")\n",
    "    monthly_counts = df[month_col].value_counts().sort_index()\n",
    "    if not monthly_counts.empty:\n",
    "        st.bar_chart(monthly_counts)\n",
    "    else:\n",
    "        st.write(\"No data available to plot monthly distribution.\")\n",
    "\n",
    "    # 7. Zero Sales Check\n",
    "    st.header(\"7. Zero Sales Check\")\n",
    "    if 'Sales (Units)' in df.columns and 'Item.[PPL]' in df.columns:\n",
    "        zero_counts = df['Sales (Units)'].eq(0).groupby(df['Item.[PPL]']).sum()\n",
    "        st.dataframe(zero_counts.sort_values(ascending=False).head())\n",
    "\n",
    "    # 8. Outlier Check for Sales Units\n",
    "    st.header(\"8. Sales Units Outlier Check\")\n",
    "    if 'Sales (Units)' in df.columns:\n",
    "        fig, ax = plt.subplots(figsize=(10, 4))\n",
    "        sns.boxplot(x=df['Sales (Units)'], ax=ax)\n",
    "        st.pyplot(fig)\n",
    "\n",
    "    st.success(\"EDA Completed\")\n",
    "else:\n",
    "    st.info(\"Please upload a CSV file to begin EDA.\")\n"
   ]
  },
  {
   "cell_type": "code",
   "execution_count": 31,
   "id": "0eaf9cc9",
   "metadata": {},
   "outputs": [
    {
     "data": {
      "text/plain": [
       "array(['NON EVERGREEN', 'EVERGREEN'], dtype=object)"
      ]
     },
     "execution_count": 31,
     "metadata": {},
     "output_type": "execute_result"
    }
   ],
   "source": [
    "df['Evergreen.[Evergreen]'].unique()"
   ]
  },
  {
   "cell_type": "code",
   "execution_count": null,
   "id": "91e854ab",
   "metadata": {},
   "outputs": [],
   "source": []
  }
 ],
 "metadata": {
  "kernelspec": {
   "display_name": "Python 3",
   "language": "python",
   "name": "python3"
  },
  "language_info": {
   "codemirror_mode": {
    "name": "ipython",
    "version": 3
   },
   "file_extension": ".py",
   "mimetype": "text/x-python",
   "name": "python",
   "nbconvert_exporter": "python",
   "pygments_lexer": "ipython3",
   "version": "3.10.3"
  }
 },
 "nbformat": 4,
 "nbformat_minor": 5
}
